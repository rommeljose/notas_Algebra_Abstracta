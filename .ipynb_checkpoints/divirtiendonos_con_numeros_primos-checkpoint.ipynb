{
 "cells": [
  {
   "cell_type": "markdown",
   "metadata": {},
   "source": [
    "## Divirtiendonos con los números primos.\n"
   ]
  },
  {
   "cell_type": "markdown",
   "metadata": {},
   "source": [
    "More fun with prime number. Tetsushi Ito. Departamento de Matematic. Kyoto University, 2018.\n",
    "por. Rommel Contreras\n",
    "$% Comentario como definir definiciones$\n",
    "$\\def\\specialFrac#1#2{\\frac{x + #1}{y + #2}} $\n",
    "$%\\specialFrac{7}{z+3}$"
   ]
  },
  {
   "cell_type": "markdown",
   "metadata": {},
   "source": [
    ">\"El problema de distinguir números primos de números compuestos y de resolver estos últimos en sus factores primos es conocido por ser uno de los más importantes y útiles en aritmética. Ha involucrado la industria y la sabiduría de los geómetras antiguos y modernos hasta tal punto que sería superfluo discutir el problema extensamente ... Además, la dignidad de la ciencia misma parece requerir que se exploren todos los medios posibles para la solución de un problema tan elegante y tan celebrado \". ( Carl Friedrich Gauss , Disquisitiones Arithmeticae, 1801)"
   ]
  },
  {
   "cell_type": "code",
   "execution_count": null,
   "metadata": {},
   "outputs": [],
   "source": []
  },
  {
   "cell_type": "markdown",
   "metadata": {},
   "source": [
    "### El test de Lucas-Lehmer"
   ]
  },
  {
   "cell_type": "markdown",
   "metadata": {},
   "source": [
    "Existe una prueba expecializada de primalidad para los números de Mersenne, llamada test de Lucas-Lehmer. Consiste de un simple algoritmo que prueba y verifica cuando un número de la forma $2^p-1$ es primo. Este test se puede implementar con unas pocas líneas de código en Sage:"
   ]
  },
  {
   "cell_type": "markdown",
   "metadata": {},
   "source": [
    "### Infinidad de números primos:"
   ]
  },
  {
   "cell_type": "markdown",
   "metadata": {},
   "source": [
    ">**Definición:** Un entero $N \\geq 2$ es un número primo, si y solo si, este es divisible por la unidad y por si mismo."
   ]
  },
  {
   "cell_type": "markdown",
   "metadata": {},
   "source": [
    "Sage proporciona diversas funciones y métodos parta trabajar con números primos. Entre ellas: **is_prime, random_prime, prime_pi** (las cuales verifican si un numero es primo, retorna un número primo entre los límites dados, cuenta el número de primos menores o iguales al valor dado).\n"
   ]
  },
  {
   "cell_type": "code",
   "execution_count": 141,
   "metadata": {},
   "outputs": [
    {
     "data": {
      "text/plain": [
       "True"
      ]
     },
     "execution_count": 141,
     "metadata": {},
     "output_type": "execute_result"
    }
   ],
   "source": [
    "is_prime(7)"
   ]
  },
  {
   "cell_type": "code",
   "execution_count": 142,
   "metadata": {},
   "outputs": [
    {
     "data": {
      "text/plain": [
       "71"
      ]
     },
     "execution_count": 142,
     "metadata": {},
     "output_type": "execute_result"
    }
   ],
   "source": [
    "random_prime(100)"
   ]
  },
  {
   "cell_type": "code",
   "execution_count": 143,
   "metadata": {},
   "outputs": [
    {
     "data": {
      "text/plain": [
       "25"
      ]
     },
     "execution_count": 143,
     "metadata": {},
     "output_type": "execute_result"
    }
   ],
   "source": [
    "prime_pi(100)   # plot(prime_pi,1,100)"
   ]
  },
  {
   "cell_type": "markdown",
   "metadata": {},
   "source": [
    ">**Teorema:** Factorización prima. Todo $n \\geq 1$ puede ser escrita como un producto de números primos. $N = P_1 x P_2 x \\dots x P_r$. Los número sprimos $P_1, P_2, \\dots, P_r$ son úmicos hasta la permutación."
   ]
  },
  {
   "cell_type": "markdown",
   "metadata": {},
   "source": [
    ">**Ejemplo:** $36 = 2 x 2 x 3 x 3$        # En Sage se utiliza la función **factor(36)**."
   ]
  },
  {
   "cell_type": "code",
   "execution_count": 144,
   "metadata": {
    "scrolled": true
   },
   "outputs": [
    {
     "data": {
      "text/plain": [
       "2^2 * 3^2"
      ]
     },
     "execution_count": 144,
     "metadata": {},
     "output_type": "execute_result"
    }
   ],
   "source": [
    "factor(36)"
   ]
  },
  {
   "cell_type": "markdown",
   "metadata": {},
   "source": [
    "### Demostración de Euclides:"
   ]
  },
  {
   "cell_type": "markdown",
   "metadata": {},
   "source": [
    "Euclides de Alejanría (300 BC), demostró que hay infinitos números primos. \n",
    "\n",
    "Partiendo de que $P_1, P_2, \\dots, P_r$ sean un conjunto dado de número primos. Para demostrar que hay infinitos números primos; es suficiente demostrar que hay un número primo fuera de ese conjunto:\n",
    "\n",
    "Consideremos un entero $M$ que es un producto de números primos. $M = P_1x P_2x \\dots x P_r + 1$. Supongamos que $M = Q_1 x Q_2 x \\dots x Q_s$; utilizando el teorema de la factorización prima.\n",
    "\n",
    "Entonces $Q_1$ es diferente a $P_1, P_2, \\dots, P_r$. Y $M$ es divisible por $Q_1$, pero $M$ no es divisible por $P_1, P_2, \\dots, P_r$, por lo tanto $Q_1$ es diferente a $P_1, P_2, \\dots, P_r$. Con ello se demuestra que hay un número primo fuera del conjunto finito inicial $N = P_1, P_2, \\dots, P_r$."
   ]
  },
  {
   "cell_type": "markdown",
   "metadata": {},
   "source": [
    "Otra manera de explicar la demostración de la infinidad de primos de Euclides. [Proofs from the books; Martin Aigner, Günter M. Ziegler]\n",
    "\n",
    "Para un conjunto finitos de primos $\\{P_1, P_2, \\dots, P_r\\}$, considere el número $n = P_1 x P_2, \\dots, P_r +1$. Este $n$ tiene un divisor primo $p$, que no está contenido en los $p_i$ del conjunto finito de primos dado: de otra manera $p$ pudiera ser un divisor de $n$ y del producto  $P_1 x P_2, \\dots, x P_r$ y también de la diferencia $n-P_1 x P_2 \\dots x P_r = 1$, lo cual es imposible. Dado que un conjunto finito $\\{P_1, P_2, \\dots, P_r\\}$ no puede contener todos los número primos posibles."
   ]
  },
  {
   "cell_type": "markdown",
   "metadata": {},
   "source": [
    "### ¿Podemos contar los números primos?"
   ]
  },
  {
   "cell_type": "markdown",
   "metadata": {},
   "source": [
    ">**Notación:** El número de primos $p$ menores o iguales a $N$ se deponta por $\\Pi(N)$; $p \\leq N$. En Sage, se usa la función **prime_pi**."
   ]
  },
  {
   "cell_type": "code",
   "execution_count": 145,
   "metadata": {},
   "outputs": [
    {
     "data": {
      "text/plain": [
       "4"
      ]
     },
     "execution_count": 145,
     "metadata": {},
     "output_type": "execute_result"
    }
   ],
   "source": [
    "# Ejemplo:\n",
    "prime_pi(10)"
   ]
  },
  {
   "cell_type": "markdown",
   "metadata": {},
   "source": [
    "¿Cuál es el valor de $\\Pi(N)$?"
   ]
  },
  {
   "cell_type": "markdown",
   "metadata": {},
   "source": [
    "Una pregunta fundamental; muy difícil.\n",
    "\n",
    "A finales del siglo XVIII: Legendre y Gauss, estudiaron esta función y conjeturaron que podría estar relacionada con $N/\\log(N)$. Un siglo despué, Hadamard y De la Vallee_Poussin probaron independientemente la conjetura de Legendre y Gauss: $\\Pi(N) \\Doteq N/\\log(N)$."
   ]
  },
  {
   "cell_type": "markdown",
   "metadata": {},
   "source": [
    ">**Teorema del Número Principal o PTN:** Cuando $N$ tiende a infinito, la relación de  $\\Pi(N) con N/\\log(N)$ tiende a 1.  [PTN: Prime Number Teorema].\n",
    "\n",
    "$$\\lim\\limits_{N \\to \\infty}  \\frac {\\Pi(N)}{N/\\log(N)}\\approx 1$$\n"
   ]
  },
  {
   "cell_type": "markdown",
   "metadata": {},
   "source": [
    "En terminos generales la función $\\Pi(N)$ aumenta como $N/\\log(N)$. Lo que es sorprendente ya que $N/\\log(N)$ es analítica por naturaleza y su definición no implica números primos."
   ]
  },
  {
   "cell_type": "markdown",
   "metadata": {},
   "source": [
    "### La función Zeta de Riemam ($\\zeta_(s)$):"
   ]
  },
  {
   "cell_type": "markdown",
   "metadata": {},
   "source": [
    "La prueba del PTN no es elemental en absoluto. Requiere un análisis detallado de la función Zeta de Riemam ($\\zeta_(s)$); que se refiere a la suma de las inversas $N^s$ para todos los enteros $N$ posibles."
   ]
  },
  {
   "cell_type": "markdown",
   "metadata": {},
   "source": [
    "$$ \\zeta_(s) = \\sum_{N=1}^{\\infty} \\frac{1}{N^s} = 1 + \\frac{1}{2^s} + \\frac{1}{3^s} + \\dots$$"
   ]
  },
  {
   "cell_type": "markdown",
   "metadata": {},
   "source": [
    "El teorema PTN actualmente se generaliza con éxito en muchas direcciones. Los resultados obtenidos suelen debominarse \"teorema de densidad\" en números primos."
   ]
  },
  {
   "cell_type": "markdown",
   "metadata": {},
   "source": [
    ">**Definición:** La función totien (de Leonard Euler; 1707-1783), $\\varphi_(N)$ es igual al número de enteros $k$, entre $1$ y $N$, que son relativamentes primos a $N$ [Relativamente primo significa que el mayor divisor común de $k$ y $N$ es 1]."
   ]
  },
  {
   "cell_type": "markdown",
   "metadata": {},
   "source": [
    ">**Ejemplo:** Para $N = 10$.\n",
    "    $\\varphi(1) + \\varphi(2) + \\varphi(5) +  \\varphi(10)  = 1 + 1 + 4 + 4 = 10$. Esto no es una casualidad; es cierto para cualquier entero positivo $N$. En Sage el la función totien de Euler ($\\varphi$) se optiene mediante: **euler_phi**. Explicación para $N = 10$, considere 10 fracccines, de $1/10$ a $10/10$ :"
   ]
  },
  {
   "cell_type": "markdown",
   "metadata": {},
   "source": [
    "$$\\frac{1}{10}, \\frac{2}{10},\\frac{3}{10},\\frac{4}{10},\\frac{5}{10},\\frac{6}{10},\\frac{7}{10},\\frac{8}{10},\\frac{9}{10},\\frac{10}{10}$$"
   ]
  },
  {
   "cell_type": "markdown",
   "metadata": {},
   "source": [
    "Simplificando:    $$\\frac{1}{10}, \\frac{1}{5},\\frac{3}{10},\\frac{2}{5},\\frac{1}{2},\\frac{3}{5},\\frac{7}{10},\\frac{4}{5},\\frac{9}{10},\\frac{1}{1}$$"
   ]
  },
  {
   "cell_type": "markdown",
   "metadata": {},
   "source": [
    "Resultan 4 fracciones con denominadores $10$, lo que es igual a $\\varphi_(10)=4$. El milagro es, que si tomamos solo los divisores de 10, podemos sumar los resultado: $\\varphi(1) + \\varphi(2) + \\varphi(5) +  \\varphi(10) = 1 + 1 + 4 + 4 = 10$."
   ]
  },
  {
   "cell_type": "markdown",
   "metadata": {},
   "source": [
    "### Números primos en las progresiones aritméticas:"
   ]
  },
  {
   "cell_type": "markdown",
   "metadata": {},
   "source": [
    "Una progresión aritmética es una secuencia de enteros de la forma $A + kB$. Para dos enteros positivos $A$ y $B$. Si contamos los números primos de la forma: $P = A + kB$; con $P \\leq N$. Podemos utilizar la notación: $\\Pi_{A,B}(N) =$ Números primos $P$ de la forma  $P = A + kB$ con $P \\leq N$."
   ]
  },
  {
   "cell_type": "markdown",
   "metadata": {},
   "source": [
    ">**Teorema de densidad sobre los números primos (Vallée-Poussin, 1896):** $$\\lim\\limits_{N \\to \\infty}  \\frac {\\Pi(N)}{N/\\log(N)}\\approx \\frac{1}{\\varphi{(B)}}$$"
   ]
  },
  {
   "cell_type": "markdown",
   "metadata": {},
   "source": [
    "Este hermoso teorema es una generalización del teorema del Número Principal, cuando $B=1$; $\\varphi(B)$ se convierte en $1$, y el teorema de densidad se transforma en el teorema del Número Principal.El teorema de densidad de los números primos implica que hay infinitos números de la forma $P = A + kB$. Este resultado se llama teorema de Dirichlet sobre la progresión aritmética , porque Dirichlet lo demostró en 1837 (60 años antes De la Vallee_Poussin). El teorema de Dirichlet solo dice que hay infinitos números de una forma particular; igual que el teorema de Euclides. Sin embargo, el teorema de  Vallée-Poussin es mucho más profundo, porque calcula la densidad de dichos números primos.\n",
    "\n",
    "Es um problema interesante, el de encontrar un número primo concreto, ya que no hay un método simple para la minería de números primos. En enero de 2016, se halló $2^{74207281}$, un primo con 22338618 dígitos; el más grandes de los números primos conocidos.\n"
   ]
  },
  {
   "cell_type": "markdown",
   "metadata": {},
   "source": [
    ">Nota: El 21 de diciembre de 2018 : The Great Internet Mersenne Prime Search (GIMPS) ha descubierto el número primo más grande conocido, $2^{82.589.933} -1$ , con 24.862.048 dígitos. Una computadora ofrecida por Patrick Laroche de Ocala, Florida, hizo el hallazgo el 7 de diciembre de 2018. El nuevo número primo, también conocido como [**M82589933**](https://www.mersenne.org/) , es más de un millón y medio de dígitos más grande que el número primo récord anterior."
   ]
  },
  {
   "cell_type": "markdown",
   "metadata": {},
   "source": [
    "### Números primos de Mersenne:"
   ]
  },
  {
   "cell_type": "markdown",
   "metadata": {},
   "source": [
    "Los números primos de Mersenne (Marin Mersenne, 1588-1648) son raros. Por el momento, solo se han encontrados 49 primos de Mersenne.  Nadie sabe si hay infinitos primos de Mersenne. Estos han sido estudiados por muchos matemáticos, ya que tienen forma agradable y buenas propiedades: $$P = 2^n-1$$"
   ]
  },
  {
   "cell_type": "code",
   "execution_count": 146,
   "metadata": {},
   "outputs": [
    {
     "name": "stdout",
     "output_type": "stream",
     "text": [
      "2 3\n",
      "3 7\n",
      "5 31\n",
      "7 127\n",
      "13 8191\n",
      "17 131071\n",
      "19 524287\n",
      "31 2147483647\n",
      "61 2305843009213693951\n",
      "89 618970019642690137449562111\n"
     ]
    }
   ],
   "source": [
    "for p in primes(100):\n",
    "    if is_prime(2^p - 1):\n",
    "        print p, 2^p - 1"
   ]
  },
  {
   "cell_type": "markdown",
   "metadata": {},
   "source": [
    "**La OEIS Foundation Inc**. es una corporación sin fines de lucro, que mantiene una colección de secuencias de números; OEIS [(On-Line Encyclopedia of Integer Sequences)](https://oeis.org/). La colección fue iniciada por Neil JA Sloane en 1964 cuando era un estudiante de posgrado en la Universidad de Cornell en Ithaca NY. Sage posee una interfaz a la enciclopedia en línea Sloane; que permite utilizar el indice de OEIS; la serie de los números primos de Mersenne se encuentran bajo el código [A000043](https://oeis.org/A000043) en la base de dato OEIS:"
   ]
  },
  {
   "cell_type": "code",
   "execution_count": 147,
   "metadata": {},
   "outputs": [
    {
     "data": {
      "text/plain": [
       "Primes p such that 2^p - 1 is prime. 2^p - 1 is then called a Mersenne prime."
      ]
     },
     "execution_count": 147,
     "metadata": {},
     "output_type": "execute_result"
    }
   ],
   "source": [
    "a = sloane.A000043;\n",
    "a"
   ]
  },
  {
   "cell_type": "code",
   "execution_count": 148,
   "metadata": {},
   "outputs": [
    {
     "data": {
      "text/plain": [
       "13466917"
      ]
     },
     "execution_count": 148,
     "metadata": {},
     "output_type": "execute_result"
    }
   ],
   "source": [
    "a(39)   # El número primo de Mercenne #39"
   ]
  },
  {
   "cell_type": "code",
   "execution_count": 149,
   "metadata": {},
   "outputs": [
    {
     "name": "stdout",
     "output_type": "stream",
     "text": [
      "[2, 3, 5, 7, 13, 17, 19, 31, 61, 89, 107, 127, 521, 607, 1279]\n"
     ]
    }
   ],
   "source": [
    "print(a.list(15))   # Los primeros 39 primos de Mercenne"
   ]
  },
  {
   "cell_type": "markdown",
   "metadata": {},
   "source": [
    "### El Problema de Basilea:"
   ]
  },
  {
   "cell_type": "markdown",
   "metadata": {},
   "source": [
    "Encontrar la suma exacta de los inversos de los cuadrados de los enteros positivos.\n",
    "\n",
    "Fue resuelto por Euler en el siglo XVIII; el problema fue primeramente planteado por Mengoli en 1644. El problema consiste en encontrar el valor  de:\n",
    "\n",
    "$$\\zeta_(2) = \\sum_{N=1}^{\\infty} \\frac{1}{N^2}$$\n",
    "\n",
    "Euler determinó que el valor de  $\\zeta_(2) = \\pi^{2}/{6}$; mediante un método analítico utilizando una expansión infinita del producto de la función sinusoidal:\n",
    "\n",
    " $$\\sin(x) = x(1-\\frac{x^2}{\\pi^2})(1-\\frac{x^2}{2\\pi^2})(1-\\frac{x^2}{3\\pi^2})\\dots$$\n",
    "\n",
    "Euler también obtuvo fórmulas misteriosas para otros valores especiales de la ahora conocida función Zeta de Riemann; $\\zeta_{(2N)}$, mostrando que es un producto de $\\pi^{2N}$; un misterioso número racional:\n",
    "\n",
    "$$\\zeta_(2) = \\pi^2/{6} ;\\; \\zeta_(4) = \\pi^4/{90} ;\\; \\zeta_(6) = \\pi^6/{945} ;\\; \\zeta_(8) = \\pi^8/{9450}$$\n",
    "$$\\zeta_(10) = \\pi^{10}/{93555} ;\\; \\zeta_(12) = \\pi^{12}/{688512875}$$\n",
    "\n",
    "Hoy se sabe que los números racionales que aparecen en la fórmula de Euler de $\\zeta_(2N)$, tienen un profundo significado teórico. Estas cífras juegan un papel importante en la teoría de los campos ciclotómicos de Kummer del siglo XIX. Al estudiarlos Kummer probó para algunos casos, el último teorema de Fermat (casos especiales).\n",
    "\n",
    "Las teorías de Kummer fueron aún más generalizadas por Iwasawa a mediados del siglo XX. La teoría de Iwasawa se ha convertido en uno de los temas cetrales de la moderna teoría de números. Hoy mucho de los profundos resultados en números primos se bansan en la teoría de Iwasawa."
   ]
  },
  {
   "cell_type": "code",
   "execution_count": null,
   "metadata": {},
   "outputs": [],
   "source": []
  }
 ],
 "metadata": {
  "kernelspec": {
   "display_name": "SageMath 9.5",
   "language": "sage",
   "name": "sagemath"
  },
  "language_info": {
   "codemirror_mode": {
    "name": "ipython",
    "version": 3
   },
   "file_extension": ".py",
   "mimetype": "text/x-python",
   "name": "python",
   "nbconvert_exporter": "python",
   "pygments_lexer": "ipython3",
   "version": "3.10.12"
  }
 },
 "nbformat": 4,
 "nbformat_minor": 2
}
