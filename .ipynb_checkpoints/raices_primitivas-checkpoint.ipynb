{
 "cells": [
  {
   "cell_type": "markdown",
   "metadata": {},
   "source": [
    "notas de rjcg: Algebra Abstracta - **Las Raíces Primitivas de la Unidad**."
   ]
  },
  {
   "cell_type": "markdown",
   "metadata": {},
   "source": [
    "# Las raíces primitivas"
   ]
  },
  {
   "cell_type": "markdown",
   "metadata": {},
   "source": [
    "Fueron estudiadas por Leonard Euler (1707-1783), Johann Heirrich Lambert (1728-1777) y Joseph-Luis Lagranje (1736-1813). Pero fue Carl Friedrich Gauss (1777-1855), la primera persona que probó rigurosamente la existencia de raíces primitivas de la unidadad."
   ]
  },
  {
   "cell_type": "markdown",
   "metadata": {},
   "source": [
    "## Orden de un elemento módulo m."
   ]
  },
  {
   "cell_type": "markdown",
   "metadata": {},
   "source": [
    "El orden de un grupo es su cardinalidad, es decir, el número de elementos que tiene.\n",
    "\n",
    "El orden de un campo finito, es el número de elementos en el campo. Existe un campo finito de orden $q$ si y solo si $q$ es la potencia de un número primo; en ese caso el campo es único con ese orden; y se denota como $GF_(q)$. Si $q=p^m$, donde $p$ es un primo y $m$ un entero positivo, $p$ es denominado la característica del campo $GF_(q)$, y $m$ es denominado el grado de extensión de $GF_(q)$.\n",
    "\n",
    ">**nota:** Recordar que \"GF\" es la abreviación de \"Galois Field\". Aquí usamos $\\mathbb{F}_q$ para los objetos matemáticos, y los denotamos en código Sage, como: **GF(q)**. SAGE usa el método **order** para el orden aditivo de un anillo o elemento modular."
   ]
  },
  {
   "cell_type": "code",
   "execution_count": 1,
   "metadata": {
    "scrolled": true
   },
   "outputs": [
    {
     "name": "stdout",
     "output_type": "stream",
     "text": [
      "[0, 1, 2, 3, 4, 5, 6]\n"
     ]
    }
   ],
   "source": [
    "F = GF(7)\n",
    "order(F)\n",
    "a=F.list()\n",
    "print(a)"
   ]
  },
  {
   "cell_type": "markdown",
   "metadata": {},
   "source": [
    ">**Definición:** Sea $m \\geq 2$. Si $gcd(a,m) = 1$, **el orden** de \"$a$\" módulo $m$ es el más pequeño entero positivo $t$ tal que $a^t \\equiv \\bmod(m)$."
   ]
  },
  {
   "cell_type": "markdown",
   "metadata": {},
   "source": [
    "# La raíz primitiva de la unidad; módulo un número primo $p$."
   ]
  },
  {
   "cell_type": "markdown",
   "metadata": {},
   "source": [
    "A un generador de todos los elementos de $GF_(q)$, se le llama raíz primitiva. Se puede demostrar que si $p$ es un primo, existe $b \\in \\mathbb{Z}$ tal que $\\mathbb{Z_p} = \\{0, b, b^2, \\dots, b^{p-1}\\}$. A $b$ se le llama \"raíz primitiva\" módulo $p$. "
   ]
  },
  {
   "cell_type": "markdown",
   "metadata": {},
   "source": [
    ">**Definición:** Un número entero $A$ entre $1$ y $(p-1)$ es una raíz primitiva de la unidad módulo $p$; si la potencia k-enésima no es congruente con $1 \\bmod(p)$, para cualquier $k$ entre $1$ y $(p-2)$.\n",
    "\n",
    ">un entero $A$; $(1 \\leq A \\leq p-1)$ es una raíz primitiva de $1 \\bmod(p)$ si: $A^k \\not \\equiv 1 \\bmod(p)$ para $(1 \\leq k \\leq p-2)$."
   ]
  },
  {
   "cell_type": "markdown",
   "metadata": {},
   "source": [
    "**Ejemplos:** dado $p = 7$, hallar las raíces primitivas de la unidad $\\bmod(7)$:\n",
    "\n",
    ">Para $A = 3; \\; 3^2 \\equiv 2 \\bmod(7); \\; 3^3 \\equiv 6 \\bmod(7); \\; 3^4 \\equiv 4 \\bmod(7); \\; 3^5 \\equiv 5 \\bmod(7); \\; \\color{blue}{ 3^6 \\equiv 1 \\bmod(7) }$.\n",
    "\n",
    ">Para $A = 2 ;\\; 2^2 \\equiv 4 \\bmod(7) ;\\;  \\color{red}{ 2^3 \\equiv 1 \\bmod(7)}$.\n",
    "\n",
    ">Para $A = 5; \\; 5^2 \\equiv 4 \\bmod(7); \\; 5^3 \\equiv 6 \\bmod(7); \\; 5^4 \\equiv 2 \\bmod(7);  \\; 5^5 \\equiv 3 \\bmod(7); \\; \\color{blue}{ 5^6 \\equiv 1 \\bmod(7) }$.\n",
    "\n",
    ">nota: Para ser raíz primitiva $b$ se debe esperar que las $A$ cumplan:  $(1 \\leq A \\leq p-1)$ y las $\\color{blue} {b^{p-1}}$ tengan como resultado el valor $\\color{blue}{ 1 \\bmod(7) }$ .\n",
    "\n",
    ">Los enteros $3$ y $5$ son raíces primitivas de la unidad módulo 7. Pero $\\color{red} 2$ no lo es; lo que no quiere decir que no lo sea respecto a otro módulo; se puede demostrar que si $p$ es un número primo, entonces existe alguna raíz primitiva módulo $p$. \n",
    "\n",
    "En Sage el método **primitive_root($n$)** retorna **la menor raíz primitiva de $n$**, si existe alguna; de otra manera reporta error. Una raíz primitiva existe si $n = 4$ o $n=p^k$ o $n = 2p^k$; con $p$ un primo impar y $k$ un número no negativo."
   ]
  },
  {
   "cell_type": "code",
   "execution_count": 2,
   "metadata": {
    "scrolled": true
   },
   "outputs": [
    {
     "data": {
      "text/plain": [
       "3"
      ]
     },
     "execution_count": 2,
     "metadata": {},
     "output_type": "execute_result"
    }
   ],
   "source": [
    "n = 7\n",
    "primitive_root(n)"
   ]
  },
  {
   "cell_type": "markdown",
   "metadata": {},
   "source": [
    "### La función totien de Euler $\\varphi(k)$:"
   ]
  },
  {
   "cell_type": "markdown",
   "metadata": {},
   "source": [
    ">**Teorema:** La suma $\\varphi(k)$ para todos los $k$ es igual a $N$ (con $N$ un entero positivo y k un entero que lo divide) o la suma de $\\varphi(k)$, donde $k$ divide a $N$ es igual a $N$."
   ]
  },
  {
   "cell_type": "markdown",
   "metadata": {},
   "source": [
    ">**Ejemplo:** Para $N = 10$.\n",
    "    $\\varphi(1) + \\varphi(2) + \\varphi(5) +  \\varphi(10) + = 1 + 1 + 4 + 4 = 10$. Esto no es una casualidad; es cierto para cualquier entero positivo $N$. En Sague el la función totien de Euler ($\\varphi$) se optiene mediante: **euler_phi**."
   ]
  },
  {
   "cell_type": "markdown",
   "metadata": {},
   "source": [
    "###  \\> Cuantas  raíces primitivas de la unidad hay?:"
   ]
  },
  {
   "cell_type": "markdown",
   "metadata": {},
   "source": [
    "La respuesta se puede describir en terminos de la función totien de Euler $\\varphi(N)$, donde $\\varphi(N)$ es igual al número de enteros $k$ entre $1 \\leq k \\leq N$; tal que $N$ y $k$ sean primos relativos (cuyo mayor divisor común es $>1$."
   ]
  },
  {
   "cell_type": "markdown",
   "metadata": {},
   "source": [
    ">**Teorema:** Hay  $\\varphi$ raíces primitivas $\\varphi(p-1)$ de la unidad $\\bmod(p)$."
   ]
  },
  {
   "cell_type": "code",
   "execution_count": 3,
   "metadata": {
    "scrolled": true
   },
   "outputs": [
    {
     "data": {
      "text/plain": [
       "2"
      ]
     },
     "execution_count": 3,
     "metadata": {},
     "output_type": "execute_result"
    }
   ],
   "source": [
    "euler_phi(7-1) #Raices primitivas del número primo 7."
   ]
  },
  {
   "cell_type": "markdown",
   "metadata": {
    "scrolled": true
   },
   "source": [
    "Cuando tenemos un primo pequeño, podemos localizar las raíces primitivas por “ensayo y error”, construyendo una tabla de potencias. \n",
    "\n",
    "**Ejemplo:** la función **count_root** (no nativa Sage) reporta las raíces primitivas de la unidad mod(7):"
   ]
  },
  {
   "cell_type": "code",
   "execution_count": 22,
   "metadata": {
    "scrolled": true
   },
   "outputs": [],
   "source": [
    "def count_root(h):\n",
    "    \"\"\"Reporta las raíces primitivas de la unidad mod(7)\"\"\"\n",
    "    for n in range(1,h):\n",
    "        a = mod(n^2,h)\n",
    "        b = mod(n^3,h)\n",
    "        c = mod(n^4,h)\n",
    "        d = mod(n^5,h)\n",
    "        e = mod(n^6,h)\n",
    "        if ( a != 1 and b != 1 and c != 1 and d != 1 and e == 1 ):\n",
    "            print (\"ok\", n)"
   ]
  },
  {
   "cell_type": "code",
   "execution_count": 5,
   "metadata": {
    "scrolled": true
   },
   "outputs": [
    {
     "name": "stdout",
     "output_type": "stream",
     "text": [
      "('ok', 3)\n",
      "('ok', 5)\n"
     ]
    }
   ],
   "source": [
    "count_root(7)"
   ]
  },
  {
   "cell_type": "markdown",
   "metadata": {},
   "source": [
    "La función **primitive_root** reporta la menor raíz primitiva de un número (pero no lista el número de raíces); la siguiente función lista las raíces de la unidad módulo $(h)$:\n"
   ]
  },
  {
   "cell_type": "code",
   "execution_count": 23,
   "metadata": {
    "scrolled": true
   },
   "outputs": [],
   "source": [
    "def cuenta_raiz(h,a=0):\n",
    "    \"\"\"Lista las raíces de la unidad módulo (h)\"\"\"\n",
    "    flag_1 = 0\n",
    "    for r in range (2,h):\n",
    "        raiz = mod(a^r,h);\n",
    "        if (raiz == 1 and r < h-1):\n",
    "            flag_1 += 1\n",
    "        if (r == h-1 and raiz == 1 and flag_1 == 0):\n",
    "            print (a, \"es raiz primitiva modulo\", h ) #,r,raiz)\n",
    "    if (a < h-1):\n",
    "        flag_1 = 0\n",
    "        a += 1\n",
    "        cuenta_raiz(h,a)\n",
    "    else: print (\"Fin <-\")\n",
    "\n"
   ]
  },
  {
   "cell_type": "code",
   "execution_count": 7,
   "metadata": {
    "scrolled": true
   },
   "outputs": [
    {
     "name": "stdout",
     "output_type": "stream",
     "text": [
      "(3, 'es raiz primitiva modulo', 7)\n",
      "(5, 'es raiz primitiva modulo', 7)\n",
      "Fin <-\n"
     ]
    }
   ],
   "source": [
    "cuenta_raiz(7)"
   ]
  },
  {
   "cell_type": "markdown",
   "metadata": {},
   "source": [
    "Las raíces n-ésimas de la unidad forman con la multiplicación un grupo cíclico de orden $n$. Un generador de este grupo cíclico es una raíz primitiva n-ésima de la unidad.  O de otra manera, la raíz n-ésima de la unidad es primitiva, si y solo si sus k-ésimas potencias, $k=0, 1,...,n-1$ son distintas."
   ]
  },
  {
   "cell_type": "markdown",
   "metadata": {},
   "source": [
    "En un campo finito o campo de Galois representando una abstracción de cualquier naturaleza, un **generador o raíz primitiva** genera todos los elementos del campo. \n",
    "\n",
    "**Ejemplo:** Se verifica la generación a partir de una raíz primitiva:"
   ]
  },
  {
   "cell_type": "code",
   "execution_count": 8,
   "metadata": {
    "scrolled": true
   },
   "outputs": [
    {
     "name": "stdout",
     "output_type": "stream",
     "text": [
      "[0, 1, 2, 3, 4, 5, 6]\n"
     ]
    }
   ],
   "source": [
    "F = GF(7)\n",
    "print(F.list())"
   ]
  },
  {
   "cell_type": "markdown",
   "metadata": {},
   "source": [
    "Utilizando la raíz primitiva $3$ de la unidad módulo 7 (igual para la raíz primitiva $5$) se verifica la generación de todos los elementos del campo $GF_(q)$."
   ]
  },
  {
   "cell_type": "code",
   "execution_count": 20,
   "metadata": {
    "scrolled": false
   },
   "outputs": [
    {
     "name": "stdout",
     "output_type": "stream",
     "text": [
      "[0, 1, 2, 3, 4, 5, 6]\n"
     ]
    }
   ],
   "source": [
    "def genera_campo(q,p):\n",
    "    \"\"\"Genera los elementos de un campo finito GF(q) \n",
    "    a partir de una raíz primitiva\"\"\"\n",
    "    k = GF(q)\n",
    "    campo = [k for k in range (0,q) if mod(p^k,q)]\n",
    "    print (campo)\n",
    "genera_campo(7,5)"
   ]
  },
  {
   "cell_type": "code",
   "execution_count": null,
   "metadata": {},
   "outputs": [],
   "source": []
  },
  {
   "cell_type": "code",
   "execution_count": null,
   "metadata": {},
   "outputs": [],
   "source": []
  },
  {
   "cell_type": "code",
   "execution_count": null,
   "metadata": {},
   "outputs": [],
   "source": []
  },
  {
   "cell_type": "markdown",
   "metadata": {},
   "source": [
    "# Voy por acá"
   ]
  },
  {
   "cell_type": "markdown",
   "metadata": {},
   "source": [
    "Esto facilita la construcción de ejemplos criptográficos elementales. Aquí hay un ejemplo estándar de un intercambio de claves Diffie-Hellman, por ejemplo (Si no se coloca la segunda línea, la potenciación no sería práctica)."
   ]
  },
  {
   "cell_type": "code",
   "execution_count": 10,
   "metadata": {
    "scrolled": true
   },
   "outputs": [
    {
     "data": {
      "text/plain": [
       "(84042165043124355037,\n",
       " 2,\n",
       " 68325925055253947436L,\n",
       " 82963156095803264557L,\n",
       " 82203955082252833006,\n",
       " 26028972340846452074,\n",
       " 76696539108724250442,\n",
       " 'x^m=y^n',\n",
       " 76696539108724250442)"
      ]
     },
     "execution_count": 10,
     "metadata": {},
     "output_type": "execute_result"
    }
   ],
   "source": [
    "\n",
    "p=random_prime(10^20,10^30) # a random prime between these numbers\n",
    "q=mod(primitive_root(p),p) # makes the primitive root a number modulo p, not an integer\n",
    "n=randint(1,p) # Alice's random number\n",
    "m=randint(1,p) # Bob's random number\n",
    "x=q^n; y=q^m\n",
    "p, q, n, m, x, y, x^m,\"x^m=y^n\", y^n"
   ]
  },
  {
   "cell_type": "code",
   "execution_count": 11,
   "metadata": {
    "scrolled": true
   },
   "outputs": [
    {
     "name": "stdout",
     "output_type": "stream",
     "text": [
      "(32462443752824753077, 15, 1, 15)\n"
     ]
    }
   ],
   "source": [
    "p=random_prime(10^20,proof=True)\n",
    "Zp=Integers(p) # abreviatura de los enteros modulares\n",
    "a=Zp(15) # Aquí nos preguntamos por 2 como un elemento de ese anillo\n",
    "print(p, a, a^(p-1), a^(p))"
   ]
  },
  {
   "cell_type": "code",
   "execution_count": 12,
   "metadata": {
    "scrolled": true
   },
   "outputs": [
    {
     "data": {
      "text/plain": [
       "13"
      ]
     },
     "execution_count": 12,
     "metadata": {},
     "output_type": "execute_result"
    }
   ],
   "source": [
    "K = GF(17)\n",
    "a = K(22)\n",
    "K(16).nth_root(2)\n"
   ]
  },
  {
   "cell_type": "code",
   "execution_count": 13,
   "metadata": {
    "scrolled": true
   },
   "outputs": [
    {
     "data": {
      "text/plain": [
       "(0, 4)"
      ]
     },
     "execution_count": 13,
     "metadata": {},
     "output_type": "execute_result"
    }
   ],
   "source": [
    "two_squares(16)"
   ]
  },
  {
   "cell_type": "code",
   "execution_count": null,
   "metadata": {
    "scrolled": true
   },
   "outputs": [],
   "source": [
    "\n"
   ]
  },
  {
   "cell_type": "code",
   "execution_count": 14,
   "metadata": {
    "scrolled": true
   },
   "outputs": [
    {
     "data": {
      "text/plain": [
       "Number of positive integers <=n but relatively prime to n"
      ]
     },
     "execution_count": 14,
     "metadata": {},
     "output_type": "execute_result"
    }
   ],
   "source": [
    "euler_phi"
   ]
  },
  {
   "cell_type": "code",
   "execution_count": 15,
   "metadata": {
    "scrolled": true
   },
   "outputs": [
    {
     "data": {
      "text/plain": [
       "<function primitive_root at 0x6fec09db758>"
      ]
     },
     "execution_count": 15,
     "metadata": {},
     "output_type": "execute_result"
    }
   ],
   "source": [
    "primitive_root\n"
   ]
  },
  {
   "cell_type": "code",
   "execution_count": 18,
   "metadata": {
    "scrolled": true
   },
   "outputs": [
    {
     "data": {
      "text/plain": [
       "True"
      ]
     },
     "execution_count": 18,
     "metadata": {},
     "output_type": "execute_result"
    }
   ],
   "source": [
    "is_prime(2791)"
   ]
  },
  {
   "cell_type": "code",
   "execution_count": null,
   "metadata": {},
   "outputs": [],
   "source": []
  }
 ],
 "metadata": {
  "kernelspec": {
   "display_name": "SageMath 9.5",
   "language": "sage",
   "name": "sagemath"
  },
  "language_info": {
   "codemirror_mode": {
    "name": "ipython",
    "version": 3
   },
   "file_extension": ".py",
   "mimetype": "text/x-python",
   "name": "python",
   "nbconvert_exporter": "python",
   "pygments_lexer": "ipython3",
   "version": "3.10.12"
  }
 },
 "nbformat": 4,
 "nbformat_minor": 2
}
