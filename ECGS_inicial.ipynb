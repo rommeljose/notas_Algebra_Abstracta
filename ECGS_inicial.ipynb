{
 "cells": [
  {
   "cell_type": "markdown",
   "id": "18539c62",
   "metadata": {},
   "source": [
    "Este algoritmo genera una imagen de prueba cuadrada con puntos dispersos. Puedes ajustar los parámetros tamano, separacion y densidad según tus necesidades."
   ]
  },
  {
   "cell_type": "code",
   "execution_count": 41,
   "id": "3e37b8ab",
   "metadata": {},
   "outputs": [
    {
     "data": {
      "image/png": "[encoded data removed]",
      "text/plain": [
       "<Figure size 432x288 with 1 Axes>"
      ]
     },
     "metadata": {
      "needs_background": "light"
     },
     "output_type": "display_data"
    }
   ],
   "source": [
    "import numpy as np\n",
    "import matplotlib.pyplot as plt\n",
    "\n",
    "def generar_imagen_prueba(tamano=100, separacion=20, densidad=0.3):\n",
    "    imagen = np.ones((tamano, tamano), dtype=np.uint8) * 255  # Crear una imagen en blanco (fondo blanco)\n",
    "    \n",
    "    # Generar puntos dispersos\n",
    "    for x in range(0, tamano, separacion):\n",
    "        for y in range(0, tamano, separacion):\n",
    "            if np.random.rand() < densidad:\n",
    "                imagen[y, x] = 0  # Pintar el punto disperso en negro\n",
    "    \n",
    "    return imagen\n",
    "\n",
    "# Generar la imagen de prueba\n",
    "imagen_prueba = generar_imagen_prueba()\n",
    "\n",
    "# Mostrar la imagen generada\n",
    "plt.imshow(imagen_prueba, cmap='gray')\n",
    "plt.axis('off')\n",
    "plt.title('Imagen de prueba con puntos dispersos')\n",
    "plt.show()"
   ]
  },
  {
   "cell_type": "markdown",
   "id": "c1f911fd",
   "metadata": {},
   "source": [
    "Este algoritmo analiza la imagen generada y reconoce los puntos dispersos. Luego, muestra las coordenadas de los puntos dispersos reconocidos."
   ]
  },
  {
   "cell_type": "code",
   "execution_count": 42,
   "id": "2a012681",
   "metadata": {},
   "outputs": [
    {
     "name": "stdout",
     "output_type": "stream",
     "text": [
      "Puntos dispersos reconocidos:\n",
      "[(0, 20), (20, 0), (20, 40), (20, 60), (20, 80), (60, 0), (60, 60), (60, 80), (80, 0), (80, 40)]\n"
     ]
    }
   ],
   "source": [
    "def reconocer_puntos(imagen, tamano=100, separacion=20):\n",
    "    puntos = []\n",
    "    for x in range(0, tamano, separacion):\n",
    "        for y in range(0, tamano, separacion):\n",
    "            if imagen[y, x] == 0:  # Si el pixel es negro, considerarlo como un punto disperso\n",
    "                puntos.append((x, y))\n",
    "    return puntos\n",
    "\n",
    "# Reconocer los puntos en la imagen de prueba\n",
    "puntos_reconocidos = reconocer_puntos(imagen_prueba)\n",
    "\n",
    "# Mostrar los puntos reconocidos\n",
    "print(\"Puntos dispersos reconocidos:\")\n",
    "print(puntos_reconocidos)"
   ]
  },
  {
   "cell_type": "markdown",
   "id": "80097e63",
   "metadata": {},
   "source": [
    "   ### Otra versión: Genera puntosgráficos y id"
   ]
  },
  {
   "cell_type": "code",
   "execution_count": 43,
   "id": "4cc39502",
   "metadata": {},
   "outputs": [
    {
     "data": {
      "image/png": "[encoded data removed]",
      "text/plain": [
       "<Figure size 432x288 with 1 Axes>"
      ]
     },
     "metadata": {
      "needs_background": "light"
     },
     "output_type": "display_data"
    },
    {
     "name": "stdout",
     "output_type": "stream",
     "text": [
      "ID hexadecimal generado: 00140028141414281450282828503c003c143c3c3c505028503c\n"
     ]
    }
   ],
   "source": [
    "import numpy as np\n",
    "\n",
    "def generar_imagen_prueba(tamano=100, separacion=20, densidad=0.4):\n",
    "    imagen = np.ones((tamano, tamano), dtype=np.uint8) * 255  # Crear una imagen en blanco (fondo blanco)\n",
    "    \n",
    "    puntos = []  # Lista para almacenar los puntos dispersos generados\n",
    "    \n",
    "    # Generar puntos dispersos\n",
    "    for x in range(0, tamano, separacion):\n",
    "        for y in range(0, tamano, separacion):\n",
    "            if np.random.rand() < densidad:\n",
    "                imagen[y, x] = 0  # Pintar el punto disperso en negro\n",
    "                puntos.append((x, y))  # Agregar el punto a la lista\n",
    "    \n",
    "    # Ordenar los puntos en orden ascendente\n",
    "    puntos.sort()\n",
    "    \n",
    "    # Convertir las coordenadas de los puntos en un ID hexadecimal\n",
    "    id_hexadecimal = convertir_a_hexadecimal(puntos)\n",
    "    \n",
    "    return imagen, id_hexadecimal\n",
    "\n",
    "def convertir_a_hexadecimal(puntos):\n",
    "    id_concatenado = \"\"\n",
    "    for punto in puntos:\n",
    "        id_concatenado += f\"{punto[0]:02x}{punto[1]:02x}\"  # Concatenar coordenadas en formato hexadecimal\n",
    "    return id_concatenado\n",
    "\n",
    "# Generar la imagen de prueba y obtener el ID hexadecimal generado\n",
    "imagen_prueba, id_hexadecimal = generar_imagen_prueba()\n",
    "\n",
    "# Mostrar la imagen generada\n",
    "plt.imshow(imagen_prueba, cmap='gray')\n",
    "plt.axis('off')\n",
    "plt.title('Imagen de prueba con puntos dispersos')\n",
    "plt.show()\n",
    "\n",
    "# Mostrar el ID hexadecimal generado\n",
    "print(\"ID hexadecimal generado:\", id_hexadecimal)\n"
   ]
  },
  {
   "cell_type": "markdown",
   "id": "8949e14c",
   "metadata": {},
   "source": [
    "### Código de reconocimiento de puntos a partir del id anterior.\n",
    "En este código, la función reconocer_puntos_por_id interpreta el ID generado anteriormente y extrae las coordenadas de cada punto a partir del mismo. Luego, devuelve una lista de puntos reconocidos utilizando estas coordenadas extraídas del ID. Esto permite recuperar los puntos dispersos sin necesidad de buscarlos en la imagen original. Utiliza el criterio de \"concatenación ordenada de coordenadas\""
   ]
  },
  {
   "cell_type": "code",
   "execution_count": 44,
   "id": "c3a6a072",
   "metadata": {},
   "outputs": [
    {
     "name": "stdout",
     "output_type": "stream",
     "text": [
      "Puntos dispersos reconocidos a partir del ID:\n",
      "[(0, 20), (0, 40), (20, 20), (20, 40), (20, 80), (40, 40), (40, 80), (60, 0), (60, 20), (60, 60), (60, 80), (80, 40), (80, 60)]\n",
      "ID hexadecimal generado: 00140028141414281450282828503c003c143c3c3c505028503c\n"
     ]
    }
   ],
   "source": [
    "def reconocer_puntos_por_id(id_hexadecimal, tamano=100, separacion=20):\n",
    "    puntos = []\n",
    "    for i in range(0, len(id_hexadecimal), 4):  # Cada coordenada ocupa 4 caracteres hexadecimales\n",
    "        x = int(id_hexadecimal[i:i+2], 16)  # Extraer la coordenada x\n",
    "        y = int(id_hexadecimal[i+2:i+4], 16)  # Extraer la coordenada y\n",
    "        puntos.append((x, y))\n",
    "    return puntos\n",
    "\n",
    "# Reconocer los puntos en la imagen de prueba a partir del ID generado\n",
    "puntos_reconocidos_por_id = reconocer_puntos_por_id(id_hexadecimal)\n",
    "\n",
    "# Mostrar los puntos reconocidos\n",
    "print(\"Puntos dispersos reconocidos a partir del ID:\")\n",
    "print(puntos_reconocidos_por_id)\n",
    "\n",
    "# Mostrar el ID hexadecimal generado\n",
    "print(\"ID hexadecimal generado:\", id_hexadecimal)\n"
   ]
  },
  {
   "cell_type": "markdown",
   "id": "cf4b0eb7",
   "metadata": {},
   "source": [
    "### Genera la imagen a partir del id\n",
    "En este código, la función generar_imagen_desde_id toma el ID hexadecimal generado anteriormente y utiliza la función reconocer_puntos_por_id para obtener las coordenadas de los puntos dispersos. Luego, pinta estos puntos en una nueva imagen y devuelve esta imagen. Finalmente, se muestra la imagen generada. Esto te permite visualizar la distribución gráfica de los puntos a partir del ID generado."
   ]
  },
  {
   "cell_type": "code",
   "execution_count": 45,
   "id": "9ca19c03",
   "metadata": {},
   "outputs": [
    {
     "data": {
      "image/png": "[encoded data removed]",
      "text/plain": [
       "<Figure size 432x288 with 1 Axes>"
      ]
     },
     "metadata": {
      "needs_background": "light"
     },
     "output_type": "display_data"
    }
   ],
   "source": [
    "import numpy as np\n",
    "import matplotlib.pyplot as plt\n",
    "\n",
    "def generar_imagen_desde_id(id_hexadecimal, tamano=100):\n",
    "    imagen = np.ones((tamano, tamano), dtype=np.uint8) * 255  # Crear una imagen en blanco (fondo blanco)\n",
    "    \n",
    "    puntos = reconocer_puntos_por_id(id_hexadecimal)  # Reconocer los puntos a partir del ID\n",
    "    \n",
    "    # Pintar los puntos dispersos en la imagen\n",
    "    for punto in puntos:\n",
    "        imagen[punto[1], punto[0]] = 0  # Pintar el punto en negro\n",
    "    \n",
    "    return imagen\n",
    "\n",
    "# Generar la imagen de distribución gráfica a partir del ID\n",
    "imagen_desde_id = generar_imagen_desde_id(id_hexadecimal)\n",
    "\n",
    "# Mostrar la imagen generada\n",
    "plt.imshow(imagen_desde_id, cmap='gray')\n",
    "plt.axis('off')\n",
    "plt.title('Distribución gráfica de los puntos a partir del ID')\n",
    "plt.show()\n"
   ]
  },
  {
   "cell_type": "code",
   "execution_count": null,
   "id": "060c830d",
   "metadata": {},
   "outputs": [],
   "source": []
  },
  {
   "cell_type": "code",
   "execution_count": 47,
   "id": "10357585",
   "metadata": {},
   "outputs": [
    {
     "name": "stdout",
     "output_type": "stream",
     "text": [
      "Punto base P0: (5, 0)\n"
     ]
    }
   ],
   "source": [
    "import random\n",
    "\n",
    "# Definir el campo finito Z_10007\n",
    "Z_10007 = 10007\n",
    "\n",
    "# Encontrar un punto base P0 perteneciente a la curva elíptica\n",
    "P0 = None\n",
    "for _ in range(Z_10007):  # Intentar un máximo de 1000 veces\n",
    "    x = random.randint(1, Z_10007 - 1)  # Empezar en 1 para evitar el punto en el origen (0, 0)\n",
    "    y_squared = x**3 - 25*x\n",
    "    if y_squared < 0:\n",
    "        continue  # Si y_squared es negativo, no hay raíz cuadrada real\n",
    "    y = int(y_squared ** 0.5)  # Raíz cuadrada entera\n",
    "    if y**2 == y_squared:\n",
    "        P0 = (x, y)\n",
    "        break\n",
    "\n",
    "if P0 is None:\n",
    "    raise ValueError(\"No se pudo encontrar un punto base válido en la curva elíptica.\")\n",
    "\n",
    "print(\"Punto base P0:\", P0)\n"
   ]
  },
  {
   "cell_type": "markdown",
   "id": "c4ab3427",
   "metadata": {},
   "source": [
    "#### Genera un punto Po de una CE y 99 adicionales pertenecientes al campo"
   ]
  },
  {
   "cell_type": "code",
   "execution_count": 48,
   "id": "953539d5",
   "metadata": {},
   "outputs": [
    {
     "name": "stdout",
     "output_type": "stream",
     "text": [
      "Puntos generados adicionales:\n",
      "(45, 300)\n",
      "(9558, 2441)\n",
      "(5980, 9395)\n",
      "(1690, 7820)\n",
      "(891, 4487)\n",
      "(419, 8870)\n",
      "(4916, 9902)\n",
      "(1738, 8063)\n",
      "(5586, 7910)\n",
      "(6365, 7003)\n",
      "(836, 4591)\n",
      "(3160, 810)\n",
      "(6833, 5057)\n",
      "(4876, 5349)\n",
      "(2923, 4206)\n",
      "(7383, 6124)\n",
      "(976, 8916)\n",
      "(658, 7335)\n",
      "(7224, 5698)\n",
      "(270, 1218)\n",
      "(3805, 2345)\n",
      "(9473, 116)\n",
      "(8624, 3857)\n",
      "(1643, 9584)\n",
      "(1235, 983)\n",
      "(961, 7596)\n",
      "(9722, 7027)\n",
      "(3960, 3732)\n",
      "(2499, 3312)\n",
      "(4215, 2699)\n",
      "(7965, 8215)\n",
      "(2546, 1229)\n",
      "(1280, 5714)\n",
      "(5248, 2478)\n",
      "(325, 3050)\n",
      "(1997, 823)\n",
      "(7826, 571)\n",
      "(5555, 5320)\n",
      "(1606, 2195)\n",
      "(1639, 2365)\n",
      "(1319, 6561)\n",
      "(5265, 8668)\n",
      "(8548, 6964)\n",
      "(9028, 5327)\n",
      "(1590, 7109)\n",
      "(1971, 7083)\n",
      "(8196, 675)\n",
      "(517, 1638)\n",
      "(8721, 8486)\n",
      "(1382, 2443)\n",
      "(1630, 926)\n",
      "(7565, 8694)\n",
      "(345, 9946)\n",
      "(5962, 1199)\n",
      "(9996, 2481)\n",
      "(7558, 4505)\n",
      "(3130, 8274)\n",
      "(5307, 1904)\n",
      "(7292, 3674)\n",
      "(7065, 4017)\n",
      "(9538, 3596)\n",
      "(3563, 3205)\n",
      "(2823, 7633)\n",
      "(7639, 218)\n",
      "(5154, 1243)\n",
      "(9921, 9718)\n",
      "(9387, 3012)\n",
      "(4710, 526)\n",
      "(3834, 6665)\n",
      "(4883, 1814)\n",
      "(7770, 2164)\n",
      "(9927, 1188)\n",
      "(9446, 5469)\n",
      "(2539, 1094)\n",
      "(8627, 3237)\n",
      "(6775, 6722)\n",
      "(3087, 393)\n",
      "(9666, 967)\n",
      "(1715, 21)\n",
      "(607, 6402)\n",
      "(4322, 3760)\n",
      "(3800, 1547)\n",
      "(2895, 9629)\n",
      "(8628, 4308)\n",
      "(9973, 3501)\n",
      "(8941, 4877)\n",
      "(6128, 7331)\n",
      "(4741, 8722)\n",
      "(9204, 4257)\n",
      "(306, 4171)\n",
      "(9475, 9272)\n",
      "(5863, 2066)\n",
      "(5349, 6391)\n",
      "(2864, 2561)\n",
      "(136, 7006)\n",
      "(3919, 1695)\n",
      "(9117, 7939)\n",
      "(6367, 9005)\n",
      "(6079, 1772)\n",
      "(1224, 6862)\n"
     ]
    }
   ],
   "source": [
    "# Definir el campo finito Z_10007\n",
    "Z_10007 = 10007\n",
    "\n",
    "# Encontrar un punto base P0 perteneciente a la curva elíptica\n",
    "P0 = (45, 300)  # Aquí reemplaza por el punto base que hayas obtenido\n",
    "\n",
    "# Generar 99 puntos adicionales en el campo finito Z_10007 a partir del punto base\n",
    "puntos_adicionales = [P0]\n",
    "for _ in range(99):\n",
    "    x = random.randint(0, Z_10007 - 1)  # Escoger un x aleatorio dentro del rango del campo finito\n",
    "    y_squared = (x**3 - 25*x) % Z_10007  # Calcular y^2 en el campo finito\n",
    "    raiz_cuadrada = pow(y_squared, (Z_10007 + 1) // 4, Z_10007)  # Calcular la raíz cuadrada modular\n",
    "    if raiz_cuadrada**2 % Z_10007 == y_squared:  # Verificar si la raíz cuadrada es válida\n",
    "        puntos_adicionales.append((x, raiz_cuadrada))\n",
    "    else:\n",
    "        puntos_adicionales.append((x, Z_10007 - raiz_cuadrada))  # Si no es válida, usar el negativo modular\n",
    "\n",
    "print(\"Puntos generados adicionales:\")\n",
    "for punto in puntos_adicionales:\n",
    "    print(punto)"
   ]
  },
  {
   "cell_type": "code",
   "execution_count": null,
   "id": "0d795ba8",
   "metadata": {},
   "outputs": [],
   "source": [
    "\n"
   ]
  },
  {
   "cell_type": "markdown",
   "id": "549f136b",
   "metadata": {},
   "source": [
    "Definición del campo finito y el punto base (P0): Se define un campo finito Z_10007 y se elige un punto base P0. En este caso, el punto base se define en la esquina superior izquierda del espacio de visualización.\n",
    "\n",
    "Generación de puntos adicionales: Se generan 99 puntos adicionales alrededor del punto base P0. Estos puntos se generan aleatoriamente dentro de un rango que permite una distribución alrededor de P0.\n",
    "\n",
    "Extracción de coordenadas: Se extraen las coordenadas x e y de los puntos generados y del punto base para su posterior visualización.\n",
    "\n",
    "La distancia promedio entre los puntos dados es de aproximadamente tantas unidades. Esto significa que, en promedio, los puntos están separados por esta distancia en el espacio. Dependiendo del contexto del problema, puedes interpretar esta distancia para evaluar la dispersión de los puntos. Si la distancia promedio es grande, los puntos están más dispersos, mientras que si es pequeña, los puntos están más cercanos entre sí."
   ]
  },
  {
   "cell_type": "markdown",
   "id": "01a020fe",
   "metadata": {},
   "source": [
    "### Inicio de ejemplo con Curvas Elípticas\n",
    "### Genera puntos"
   ]
  },
  {
   "cell_type": "code",
   "execution_count": 45,
   "id": "6b832cc1",
   "metadata": {},
   "outputs": [
    {
     "name": "stdout",
     "output_type": "stream",
     "text": [
      "[(0, 99003), (32440, 52331), (42367, 8656), (84104, 87993), (54235, 33146), (98153, 28197), (26459, 55816), (4030, 61649), (26016, 95891), (74502, 20062), (96087, 5457), (67651, 74595), (93921, 78388), (30363, 20155), (84251, 92116), (50867, 77473), (16485, 16159), (4423, 5979), (56364, 91460), (96413, 93393), (66630, 5029), (37433, 11180), (6074, 86090), (83065, 39018), (30231, 20300), (2073, 89194), (44475, 60790), (82010, 73566), (52663, 24206), (91614, 78817), (71100, 8506), (12691, 75166), (44372, 25622), (88722, 12256), (78832, 91487), (35885, 88554), (46782, 89247), (12887, 13253), (78270, 98906), (12775, 93391), (22241, 21843), (65158, 25107), (40546, 52966), (66735, 702), (31043, 42527), (4599, 37831), (85626, 62316), (80605, 47474), (76814, 31149), (53414, 4044), (90040, 81892), (97329, 25002), (13714, 61069), (12599, 27743), (35569, 1806), (43385, 32695), (85965, 4984), (13392, 30107), (28649, 74786), (34032, 98308), (59899, 43685), (77794, 66548), (75799, 6450), (27370, 48917), (47842, 11548), (21274, 78122), (11973, 74113), (66296, 17832), (49293, 53571), (85890, 77886), (64495, 18920), (57921, 80771), (38827, 20697), (66504, 56738), (7353, 95852), (80020, 71109), (52331, 37871), (44759, 31193), (66666, 90421), (27773, 63131), (64947, 51137), (3523, 6886), (68725, 88037), (97985, 19126), (17204, 74588), (99137, 26096), (51217, 67321), (13829, 10691), (72930, 83536), (64133, 17751), (35670, 502), (25311, 75527), (75475, 90658), (96531, 38866), (95631, 98247), (90293, 12038), (76207, 33687), (77608, 25204), (79961, 47524), (24489, 51238)]\n",
      "\n",
      "Distancia promedio entre puntos: 55031.93158302619\n",
      "\n",
      "ID generado: 0000,99003;32440,52331;42367,8656;84104,87993;54235,33146;98153,28197;26459,55816;4030,61649;26016,95891;74502,20062;96087,5457;67651,74595;93921,78388;30363,20155;84251,92116;50867,77473;16485,16159;4423,5979;56364,91460;96413,93393;66630,5029;37433,11180;6074,86090;83065,39018;30231,20300;2073,89194;44475,60790;82010,73566;52663,24206;91614,78817;71100,8506;12691,75166;44372,25622;88722,12256;78832,91487;35885,88554;46782,89247;12887,13253;78270,98906;12775,93391;22241,21843;65158,25107;40546,52966;66735,0702;31043,42527;4599,37831;85626,62316;80605,47474;76814,31149;53414,4044;90040,81892;97329,25002;13714,61069;12599,27743;35569,1806;43385,32695;85965,4984;13392,30107;28649,74786;34032,98308;59899,43685;77794,66548;75799,6450;27370,48917;47842,11548;21274,78122;11973,74113;66296,17832;49293,53571;85890,77886;64495,18920;57921,80771;38827,20697;66504,56738;7353,95852;80020,71109;52331,37871;44759,31193;66666,90421;27773,63131;64947,51137;3523,6886;68725,88037;97985,19126;17204,74588;99137,26096;51217,67321;13829,10691;72930,83536;64133,17751;35670,0502;25311,75527;75475,90658;96531,38866;95631,98247;90293,12038;76207,33687;77608,25204;79961,47524;24489,51238\n"
     ]
    },
    {
     "data": {
      "image/png": "[encoded data removed]",
      "text/plain": [
       "<Figure size 432x288 with 1 Axes>"
      ]
     },
     "metadata": {
      "needs_background": "light"
     },
     "output_type": "display_data"
    }
   ],
   "source": [
    "import matplotlib.pyplot as plt\n",
    "from itertools import combinations\n",
    "import random\n",
    "\n",
    "# Definir el campo finito Z_10007\n",
    "# Z_finito = 10007\n",
    "Z_finito = 100003\n",
    "\n",
    "# Definir las coordenadas del punto base P0 (en la esquina superior izquierda)\n",
    "P0 = (0, 100003 - 1000)\n",
    "\n",
    "# Generar 99 puntos adicionales en el campo finito Z_finito alrededor del punto base P0\n",
    "# Ojo MODIFICADO POR MI\n",
    "puntos_adicionales = [P0]\n",
    "for _ in range(99):\n",
    "    # Generar coordenadas x e y aleatorias dentro del campo finito Z_finito\n",
    "    x = random.randint(0, Z_finito - 1)\n",
    "    y = random.randint(0, Z_finito - 1)\n",
    "    \n",
    "    # Generar coordenadas x e y aleatorias alrededor del punto base P0\n",
    "#     x = random.randint(P0[0], P0[0] + 1000)\n",
    "#     y = random.randint(P0[1] - 1000, P0[1])\n",
    "    puntos_adicionales.append((x, y))\n",
    "print (puntos_adicionales)\n",
    "    \n",
    "# Extraer coordenadas x y y de los puntos\n",
    "x_coords = [p[0] for p in puntos_adicionales]\n",
    "y_coords = [p[1] for p in puntos_adicionales]\n",
    "\n",
    "# Configurar el aspecto del gráfico\n",
    "plt.axis('equal')\n",
    "plt.axis('off')  # Ocultar ejes\n",
    "plt.title('Puntos generados adicionales en Z_10007')\n",
    "\n",
    "# Graficar los puntos adicionales\n",
    "plt.scatter(x_coords, y_coords, label='Puntos adicionales', color='blue')\n",
    "# Graficar el punto base\n",
    "plt.scatter(P0[0], P0[1], label='Punto base', color='red')\n",
    "\n",
    "# # Generar el ID de los 100 puntos con separador (-) entre las coordenadas\n",
    "# id_concatenado = \"\"\n",
    "# for punto in puntos_adicionales:\n",
    "#     id_concatenado += f\";{punto[0]:04d},{punto[1]:04d}\"  # Concatenar coordenadas con separador\n",
    "\n",
    "# Generar el ID de los 100 puntos con separador (-) entre las coordenadas\n",
    "# Generar el ID de los 100 puntos con separador (;) entre las coordenadas\n",
    "id_concatenado = \";\".join([f\"{punto[0]:04d},{punto[1]:04d}\" for punto in puntos_adicionales])\n",
    "\n",
    "# Calcular la distancia promedio entre todos los puntos\n",
    "distancias = []\n",
    "for p1, p2 in combinations(puntos_adicionales, 2):\n",
    "    distancia = math.sqrt((p1[0] - p2[0])**2 + (p1[1] - p2[1])**2)\n",
    "    distancias.append(distancia)\n",
    "\n",
    "distancia_promedio = sum(distancias) / len(distancias)\n",
    "print (\"\")\n",
    "print(\"Distancia promedio entre puntos:\", distancia_promedio)\n",
    "print (\"\")\n",
    "\n",
    "# Mostrar el ID generado\n",
    "print(\"ID generado:\", id_concatenado)\n",
    "\n",
    "# Mostrar el gráfico\n",
    "# plt.legend()\n",
    "plt.show()\n"
   ]
  },
  {
   "cell_type": "markdown",
   "id": "f7ec2c8d",
   "metadata": {},
   "source": [
    "### verifica\n",
    "Este código tomará el ID hexadecimal generado, extraerá las coordenadas x de cada punto y luego graficará estos puntos en el eje x. Puedes ejecutar este código para visualizar los puntos generados a partir del ID."
   ]
  },
  {
   "cell_type": "code",
   "execution_count": 44,
   "id": "a440c1f2",
   "metadata": {},
   "outputs": [
    {
     "data": {
      "image/png": "[encoded data removed]",
      "text/plain": [
       "<Figure size 432x288 with 1 Axes>"
      ]
     },
     "metadata": {
      "needs_background": "light"
     },
     "output_type": "display_data"
    }
   ],
   "source": [
    "import matplotlib.pyplot as plt\n",
    "\n",
    "def reconstruir_puntos_por_id(id_concatenado):\n",
    "    # Eliminar cualquier espacio en blanco y el carácter de coma al final del ID\n",
    "    id_concatenado = id_concatenado.rstrip(', ')\n",
    "    \n",
    "    # Separar las coordenadas usando el separador (;)\n",
    "    coordenadas = id_concatenado.split(';')\n",
    "    puntos_reconstruidos = []\n",
    "    for coord in coordenadas:\n",
    "        # Separar las coordenadas x e y usando el separador (,)\n",
    "        x, y = map(int, coord.split(','))\n",
    "        puntos_reconstruidos.append((x, y))\n",
    "    return puntos_reconstruidos\n",
    "\n",
    "# Reutilizamos el ID generado\n",
    "# id_concatenado = \"0000,1000;0787,0196;0626,0932;0229,0041;0024,0641;0709,0483;0736,0871;0777,0415;0670,0246;0111,0999;0845,0135;0289,0456;0094,0379;0084,0254;0722,0982;0112,0362;0968,0313;0797,0926;0831,0359;0659,0488;0475,0747;0717,0113;0178,0068;0369,0000;0743,0358;0811,0948;0558,0017;0838,0836;0829,0600;0712,0698;0267,0507;0148,0404;0177,0105;0893,0999;0255,0579;0675,0903;0818,0873;0598,0862;0583,0389;0896,0058;0440,0819;0471,0703;0567,0304;0724,0269;0037,0420;0086,0926;0272,0243;0107,0702;0190,0577;0123,0506;0963,0904;0844,0628;0956,0208;0796,0306;0727,0718;0461,0801;0199,0602;0696,0342;0904,0969;0342,0777;0935,0303;0186,0076;0919,0110;0689,0164;0664,0256;0616,0390;0390,0689;0308,0798;0710,0041;0579,0143;0065,0175;0962,0445;0221,0150;0850,0144;0092,0143;0044,0897;0447,0475;0612,0779;0800,0853;0734,0131;0091,0178;0786,0186;0873,0090;0605,0586;0953,0882;0119,0946;0305,0163;0556,0306;0814,0407;0479,0828;0552,0651;0424,0266;0845,0184;0736,0586;0462,0465;0687,0932;0897,0157;0717,0826;0349,0077;0536,0410\"\n",
    "                     \n",
    "# Reconstruir los puntos a partir del ID\n",
    "puntos_reconstruidos = reconstruir_puntos_por_id(id_concatenado)\n",
    "\n",
    "# Extraer coordenadas x y y de los puntos reconstruidos\n",
    "x_reconstruidos = [p[0] for p in puntos_reconstruidos]\n",
    "y_reconstruidos = [p[1] for p in puntos_reconstruidos]\n",
    "\n",
    "# Configurar el aspecto del gráfico\n",
    "plt.axis('equal')\n",
    "plt.axis('off')  # Ocultar ejes\n",
    "plt.title('Puntos reconstruidos a partir del ID')\n",
    "\n",
    "# Graficar los puntos reconstruidos\n",
    "plt.scatter(x_reconstruidos, y_reconstruidos, label='Puntos reconstruidos', color='green')\n",
    "\n",
    "# Graficar el punto base en rojo\n",
    "plt.scatter(P0[0], P0[1], label='Punto base', color='red')\n",
    "\n",
    "# Mostrar el gráfico\n",
    "plt.show()\n"
   ]
  },
  {
   "cell_type": "markdown",
   "id": "4f8b42fb",
   "metadata": {},
   "source": [
    "### verfica a partir del  ID"
   ]
  },
  {
   "cell_type": "code",
   "execution_count": 37,
   "id": "c0694f27",
   "metadata": {},
   "outputs": [
    {
     "data": {
      "image/png": "[encoded data removed]",
      "text/plain": [
       "<Figure size 432x288 with 1 Axes>"
      ]
     },
     "metadata": {
      "needs_background": "light"
     },
     "output_type": "display_data"
    }
   ],
   "source": [
    "# Generar el ID de los 100 puntos con separador (;) entre las coordenadas\n",
    "id_concatenado = \";\".join([f\"{punto[0]:04d},{punto[1]:04d}\" for punto in puntos_adicionales])\n",
    "\n",
    "# Extraer coordenadas x y y de los puntos\n",
    "x_coords = [p[0] for p in puntos_adicionales]\n",
    "y_coords = [p[1] for p in puntos_adicionales]\n",
    "\n",
    "# Configurar el aspecto del gráfico\n",
    "plt.axis('equal')\n",
    "plt.axis('off')  # Ocultar ejes\n",
    "plt.title('Puntos generados adicionales en Z_10007')\n",
    "\n",
    "# Graficar los puntos adicionales\n",
    "plt.scatter(x_coords, y_coords, label='Puntos adicionales', color='blue')\n",
    "# Graficar el punto base en rojo\n",
    "plt.scatter(P0[0], P0[1], label='Punto base', color='red')\n",
    "\n",
    "# Mostrar el gráfico\n",
    "# plt.legend()\n",
    "plt.show()"
   ]
  },
  {
   "cell_type": "markdown",
   "id": "e36226b8",
   "metadata": {},
   "source": [
    "### Verificando que queden separados y no solapados\n",
    "Usando la estrategia de verificar la distancia euclidiana entre el nuevo punto generado y los puntos existentes. Si la distancia es menor que un cierto umbral, puedes generar un nuevo punto hasta que se cumpla la condición de separación mínima.     "
   ]
  },
  {
   "cell_type": "code",
   "execution_count": 70,
   "id": "9f7e3674",
   "metadata": {},
   "outputs": [
    {
     "name": "stdout",
     "output_type": "stream",
     "text": [
      "ID generado: 0000,1000;0798,0057;0684,0996;0560,0859;0197,0815;0106,0356;0158,0933;0032,0112;0170,0678;0534,0227;0362,0507;0008,0491;0501,0284;0710,0648;0039,0558;0364,0738;0952,0299;0689,0505;0453,0488;0168,0271;0919,0872;0409,0929;0001,0788;0809,0875;0466,0844;0623,0806;0685,0439;0489,0924;0249,0517;0619,0587;0534,0439;0791,0388;0104,0907;0283,0795;0942,0454;0237,0614;0486,0165;0114,0288;0998,0106;0855,0050;0731,0054;0969,0966;0012,0192;0635,0397;0144,0869;0448,0312;0416,0023;0160,0411;0494,0626;0783,0213;0427,0072;0728,0315;0214,0395;0670,0083;0424,0267;0351,0600;0886,0806;0357,0283;0047,0295;0304,0652;0472,0430;0234,0964;0777,0303;0982,0410;0473,0690;0699,0865;0920,0250;0743,0771;0627,0534;0086,0218;0231,0040;0734,0183;0110,0685;0083,0737;0416,0156;0334,0142;0887,0163;0556,0678;0302,0205;0721,0121;0137,0044;0999,0599;0368,0405;0295,0296;0602,0005;0731,0912;0677,0025;0575,0106;0090,0629;0629,0222;0857,0420;0262,0167;0575,0541;0045,0826;0246,0667;0519,0966;0297,0412;0639,0855;0833,0177;0570,0179\n",
      "\n",
      "Hash SHA-256: 673b3f909c13258c7ab7a6eb4f12667bfc1864cc461c3a9e706aa097a08d9d1d\n"
     ]
    },
    {
     "data": {
      "image/png": "[encoded data removed]",
      "text/plain": [
       "<Figure size 432x288 with 1 Axes>"
      ]
     },
     "metadata": {
      "needs_background": "light"
     },
     "output_type": "display_data"
    }
   ],
   "source": [
    "import matplotlib.pyplot as plt\n",
    "import random\n",
    "import math\n",
    "import hashlib\n",
    "\n",
    "# Definir el campo finito Z_10007\n",
    "Z_10007 = 10007\n",
    "\n",
    "# Definir las coordenadas del punto base P0 (en la esquina superior izquierda)\n",
    "P0 = (0, 1000)\n",
    "\n",
    "# Definir la función para calcular la distancia euclidiana entre dos puntos\n",
    "def distancia(p1, p2):\n",
    "    return math.sqrt((p1[0] - p2[0])**2 + (p1[1] - p2[1])**2)\n",
    "\n",
    "# Definir el umbral de separación mínima entre puntos\n",
    "umbral = 50  # Ajusta este valor según tus necesidades\n",
    "\n",
    "# Generar 99 puntos adicionales en el campo finito Z_10007 alrededor del punto base P0\n",
    "puntos_adicionales = [P0]\n",
    "for _ in range(99):\n",
    "    while True:\n",
    "        # Generar coordenadas x e y aleatorias alrededor del punto base P0\n",
    "        x = random.randint(P0[0], P0[0] + 1000)\n",
    "        y = random.randint(P0[1] - 1000, P0[1])\n",
    "        \n",
    "#         # Generar coordenadas x e y aleatorias dentro del campo finito Z_finito\n",
    "#         # PERO QUEDAN SOLAPADOS\n",
    "#         x = random.randint(0, Z_finito - 1)\n",
    "#         y = random.randint(0, Z_finito - 1)\n",
    "        \n",
    "        \n",
    "        \n",
    "        # Verificar la distancia mínima con los puntos existentes\n",
    "        distancia_minima = float('inf')\n",
    "        for punto in puntos_adicionales:\n",
    "            d = distancia((x, y), punto)\n",
    "            distancia_minima = min(distancia_minima, d)\n",
    "        \n",
    "        # Si la distancia mínima es mayor que el umbral, agregar el nuevo punto y salir del bucle\n",
    "        if distancia_minima > umbral:\n",
    "            puntos_adicionales.append((x, y))\n",
    "            break\n",
    "    \n",
    "# Extraer coordenadas x y y de los puntos\n",
    "x_coords = [p[0] for p in puntos_adicionales]\n",
    "y_coords = [p[1] for p in puntos_adicionales]\n",
    "\n",
    "# Configurar el aspecto del gráfico\n",
    "plt.axis('equal')\n",
    "plt.axis('off')  # Ocultar ejes\n",
    "plt.title('Puntos generados adicionales en Z_10007')\n",
    "\n",
    "# Graficar los puntos adicionales\n",
    "plt.scatter(x_coords, y_coords, label='Puntos adicionales', color='blue')\n",
    "# Graficar el punto base\n",
    "plt.scatter(P0[0], P0[1], label='Punto base', color='red')\n",
    "\n",
    "# Generar el ID de los 100 puntos con separador (-) entre las coordenadas\n",
    "id_concatenado = \";\".join([f\"{punto[0]:04d},{punto[1]:04d}\" for punto in puntos_adicionales])\n",
    "\n",
    "# Calcular el hash SHA-256 del ID concatenado\n",
    "hash_id = hashlib.sha256(id_concatenado.encode()).hexdigest()\n",
    "\n",
    "# Mostrar el ID generado y el hash SHA-256\n",
    "print(\"ID generado:\", id_concatenado)\n",
    "print (\"\")\n",
    "print(\"Hash SHA-256:\", hash_id)\n",
    "\n",
    "# Mostrar el gráfico\n",
    "plt.show()\n"
   ]
  },
  {
   "cell_type": "markdown",
   "id": "d7f9d7ab",
   "metadata": {},
   "source": [
    "#### Verificando, graficando solamente"
   ]
  },
  {
   "cell_type": "code",
   "execution_count": 71,
   "id": "83e1cbc3",
   "metadata": {},
   "outputs": [
    {
     "data": {
      "image/png": "[encoded data removed]",
      "text/plain": [
       "<Figure size 432x288 with 1 Axes>"
      ]
     },
     "metadata": {
      "needs_background": "light"
     },
     "output_type": "display_data"
    }
   ],
   "source": [
    "# Generar el ID de los 100 puntos con separador (;) entre las coordenadas\n",
    "id_concatenado = \";\".join([f\"{punto[0]:04d},{punto[1]:04d}\" for punto in puntos_adicionales])\n",
    "\n",
    "# Extraer coordenadas x y y de los puntos\n",
    "x_coords = [p[0] for p in puntos_adicionales]\n",
    "y_coords = [p[1] for p in puntos_adicionales]\n",
    "\n",
    "# Configurar el aspecto del gráfico\n",
    "plt.axis('equal')\n",
    "plt.axis('off')  # Ocultar ejes\n",
    "plt.title('Puntos generados adicionales en Z_10007')\n",
    "\n",
    "# Graficar los puntos adicionales\n",
    "plt.scatter(x_coords, y_coords, label='Puntos adicionales', color='blue')\n",
    "# Graficar el punto base en rojo\n",
    "plt.scatter(P0[0], P0[1], label='Punto base', color='red')\n",
    "\n",
    "# Mostrar el gráfico\n",
    "# plt.legend()\n",
    "plt.show()"
   ]
  },
  {
   "cell_type": "markdown",
   "id": "08b2348c",
   "metadata": {},
   "source": [
    "### Generando el hash a partir del gráfico\n",
    "\n",
    "Reconstruir los puntos a partir del id_concatenado.\n",
    "Calcular el hash SHA-256 del id_concatenado reconstruido.\n",
    "Graficar los puntos reconstruidos.\n",
    "Mostrar el hash SHA-256 calculado.\n",
    "Aquí tienes el código completo:"
   ]
  },
  {
   "cell_type": "code",
   "execution_count": 72,
   "id": "5d3255f6",
   "metadata": {},
   "outputs": [
    {
     "name": "stdout",
     "output_type": "stream",
     "text": [
      "673b3f909c13258c7ab7a6eb4f12667bfc1864cc461c3a9e706aa097a08d9d1d\n"
     ]
    },
    {
     "data": {
      "image/png": "[encoded data removed]",
      "text/plain": [
       "<Figure size 432x288 with 1 Axes>"
      ]
     },
     "metadata": {
      "needs_background": "light"
     },
     "output_type": "display_data"
    }
   ],
   "source": [
    "import matplotlib.pyplot as plt\n",
    "import hashlib\n",
    "\n",
    "# Función para reconstruir los puntos a partir del id_concatenado\n",
    "def reconstruir_puntos(id_concatenado):\n",
    "    puntos = []\n",
    "    coordenadas = id_concatenado.split(';')\n",
    "    for coord in coordenadas:\n",
    "        if coord:  # Ignorar cadenas vacías (por el último ';' en el id_concatenado)\n",
    "            # Separar las coordenadas x e y usando el separador (,)\n",
    "            x, y = map(int, coord.split(','))\n",
    "            puntos.append((x, y))\n",
    "    return puntos\n",
    "\n",
    "# Generar el ID de los 100 puntos con separador (;) entre las coordenadas\n",
    "#id_concatenado = \"0000,1000;0641,0312;0067,0676;0647,0390;0881,0934;0367,0615;0363,0679;0666,0867;0243,0887;0502,0618;0843,0196;0566,0059;0357,0615;0939,0909;0892,0096;0255,0240;0497,0213;0789,0942;0697,0007;0334,0198;0183,0336;0529,0659;0645,0244;0740,0939;0023,0861;0023,0870;0470,0811;0376,0101;0362,0160;0330,0850;0097,0618;0375,0416;0573,0760;0917,0574;0112,0377;0799,0779;0464,0299;0878,0580;0784,0675;0783,0024;0018,0848;0881,0806;0898,0582;0330,0925;0069,0908;0675,0943;0658,0677;0066,0056;0317,0037;0936,0376;0324,0734;0091,0400;0083,0545;0658,0108;0670,0345;0748,0190;0184,0809;0158,0996;0777,0500;0183,0874;0820,0368;0921,0313;0790,0295;0994,0998;0819,0915;0066,0108;0974,0390;0554,0000;0908,0067;0810,0229;0711,0943;0383,0654;0401,0232;0580,0584;0016,0347;0260,0029;0261,0750;0352,0438;0336,0198;0634,0916;0112,0097;0162,0212;0771,0510;0745,0702;0019,0105;0437,0587;0022,0198;0513,0297;0707,0215;0103,0552;0051,0264;0056,0347;0881,0873;0449,0739;0603,0786;0188,0739;0194,0493;0871,0811;0566,0287;0364,0896\"\n",
    "\n",
    "# Reconstruir los puntos a partir del ID\n",
    "puntos_reconstruidos = reconstruir_puntos(id_concatenado)\n",
    "\n",
    "# Calcular el hash SHA-256 del ID concatenado\n",
    "hash_id = hashlib.sha256(id_concatenado.encode()).hexdigest()\n",
    "\n",
    "# Extraer coordenadas x y y de los puntos reconstruidos\n",
    "x_coords = [p[0] for p in puntos_reconstruidos]\n",
    "y_coords = [p[1] for p in puntos_reconstruidos]\n",
    "\n",
    "# Configurar el aspecto del gráfico\n",
    "plt.axis('equal')\n",
    "plt.axis('off')  # Ocultar ejes\n",
    "plt.title('Puntos generados a partir del ID')\n",
    "\n",
    "# Graficar los puntos reconstruidos\n",
    "plt.scatter(x_coords, y_coords, label='Puntos reconstruidos', color='blue')\n",
    "\n",
    "# Graficar el punto base en rojo\n",
    "plt.scatter(P0[0], P0[1], label='Punto base', color='red')\n",
    "\n",
    "# Mostrar el hash SHA-256 del ID generado\n",
    "print (hash_id)\n",
    "\n",
    "# Mostrar el gráfico\n",
    "plt.show()\n"
   ]
  },
  {
   "cell_type": "code",
   "execution_count": null,
   "id": "4eb760a2",
   "metadata": {},
   "outputs": [],
   "source": []
  }
 ],
 "metadata": {
  "kernelspec": {
   "display_name": "Python 3 (ipykernel)",
   "language": "python",
   "name": "python3"
  },
  "language_info": {
   "codemirror_mode": {
    "name": "ipython",
    "version": 3
   },
   "file_extension": ".py",
   "mimetype": "text/x-python",
   "name": "python",
   "nbconvert_exporter": "python",
   "pygments_lexer": "ipython3",
   "version": "3.10.12"
  }
 },
 "nbformat": 4,
 "nbformat_minor": 5
}
